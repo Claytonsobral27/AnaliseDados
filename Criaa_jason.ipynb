{
  "nbformat": 4,
  "nbformat_minor": 0,
  "metadata": {
    "colab": {
      "provenance": [],
      "mount_file_id": "1FERuBBMb48SSoHj7L7jgErxgdRvZl6gY",
      "authorship_tag": "ABX9TyNgngfcxbukiUXutq6m5JnP",
      "include_colab_link": true
    },
    "kernelspec": {
      "name": "python3",
      "display_name": "Python 3"
    },
    "language_info": {
      "name": "python"
    }
  },
  "cells": [
    {
      "cell_type": "markdown",
      "metadata": {
        "id": "view-in-github",
        "colab_type": "text"
      },
      "source": [
        "<a href=\"https://colab.research.google.com/github/Claytonsobral27/AnaliseDados/blob/main/Criaa_jason.ipynb\" target=\"_parent\"><img src=\"https://colab.research.google.com/assets/colab-badge.svg\" alt=\"Open In Colab\"/></a>"
      ]
    },
    {
      "cell_type": "code",
      "execution_count": 3,
      "metadata": {
        "id": "mU0oTTjJkvc3"
      },
      "outputs": [],
      "source": [
        "import json\n"
      ]
    },
    {
      "cell_type": "code",
      "source": [
        "dados_receitas = {\n",
        "           \"receitas\":[\n",
        "               {\n",
        "\n",
        "                 \"titulo\": \"Bolo de Chocolate\",\n",
        "                 \"tempo_preparo\":\"45 minutos\",\n",
        "                 \"porcoes\": 8,\n",
        "                 \"ingredientes\": [\n",
        "                     {\"ingrediente\": \"Farinha de Trigo\", \"quantidade\":\"2 xicaras\"},\n",
        "                     {\"ingrediente\": \"Açúcar\", \"quantidade\":\"1 xicara\"},\n",
        "                     {\"ingrediente\": \"Ovo\", \"quantidade\": \"3 unidade\"},\n",
        "                     {\"ingrediente\": \"Leite\",\"quantidade\": \"1 xicara\"},\n",
        "                     {\"ingrediente\": \"Manteiga\", \"quantidade\": \"1/2 xicara\"},\n",
        "                  ]\n",
        "\n",
        "\n",
        "               },\n",
        "\n",
        "               {\n",
        "\n",
        "                \"titulo\":\"Salada Caesar\",\n",
        "                \"tempo_preparo\":\"20 minutos\",\n",
        "                \"porcoes\": 4,\n",
        "                \"ingredientes\": [\n",
        "                    {\"ingrediente\": \"Alface roamana\", \"quantidade\": \"1 cabeça\"},\n",
        "                    {\"ingrediente\": \"Croutons\", \"quantidade\": \"1 xícara\"},\n",
        "                    {\"ingrediente\": \"Queijo parmessão\", \"quantidade\": \"1/2 unidade\"},\n",
        "                    {\"ingrediente\": \"Molho caesar\", \"quantidade\": \"1/4 unidade\"},\n",
        "\n",
        "                                 ]\n",
        "\n",
        "               },\n",
        "\n",
        "\n",
        "               {\n",
        "                    \"titulo\":\"Pasta ao Pesto\",\n",
        "                \"tempo_preparo\":\"30 minutos\",\n",
        "                \"porcoes\": 2,\n",
        "                \"ingredientes\": [\n",
        "                    {\"ingrediente\": \"Massa\", \"quantidade\": \"1 cabeça\"},\n",
        "                    {\"ingrediente\": \"Manjericao fresco\", \"quantidade\": \"1/2 xícara\"},\n",
        "                    {\"ingrediente\": \"Azeite de oliva\", \"quantidade\": \"1/3 unidade\"},\n",
        "                    {\"ingrediente\": \"Nozes\", \"quantidade\": \"1/4 unidade\"},\n",
        "                    {\"ingrediente\": \"Queijo parmessão\", \"quantidade\": \"1/4 unidade\"},\n",
        "                ]\n",
        "\n",
        "               }\n",
        "           ]\n",
        "}"
      ],
      "metadata": {
        "id": "fXU5ekrhk5CB"
      },
      "execution_count": 4,
      "outputs": []
    },
    {
      "cell_type": "code",
      "source": [
        "with open(\"dados_receitas.json\",\"w\", encoding=\"utf-8\")  as file:\n",
        "  json.dump(dados_receitas, file , ensure_ascii=False, indent= 4)"
      ],
      "metadata": {
        "id": "-AjNtqoioKmf"
      },
      "execution_count": 6,
      "outputs": []
    }
  ]
}